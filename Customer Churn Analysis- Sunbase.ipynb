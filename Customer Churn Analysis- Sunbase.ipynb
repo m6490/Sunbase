{
 "cells": [
  {
   "cell_type": "markdown",
   "id": "8096fab3",
   "metadata": {},
   "source": [
    "# Customer Churn Sunbase Data"
   ]
  },
  {
   "cell_type": "markdown",
   "id": "e7773b9a",
   "metadata": {},
   "source": [
    "## Problem Statement\n",
    "Develop a machine learning model to predict customer churn based on historical customer data. "
   ]
  },
  {
   "cell_type": "code",
   "execution_count": 3,
   "id": "189e0fb5",
   "metadata": {},
   "outputs": [],
   "source": [
    "# importing the necessary libraries\n",
    "import numpy as np\n",
    "import pandas as pd\n",
    "import matplotlib.pyplot as plt\n",
    "import seaborn as sns\n",
    "import sklearn\n",
    "import warnings\n",
    "warnings.filterwarnings(\"ignore\")"
   ]
  },
  {
   "cell_type": "markdown",
   "id": "760a530b",
   "metadata": {},
   "source": [
    "### 1. Data Preprocessing:"
   ]
  },
  {
   "cell_type": "code",
   "execution_count": 4,
   "id": "7dce522c",
   "metadata": {},
   "outputs": [
    {
     "data": {
      "text/html": [
       "<div>\n",
       "<style scoped>\n",
       "    .dataframe tbody tr th:only-of-type {\n",
       "        vertical-align: middle;\n",
       "    }\n",
       "\n",
       "    .dataframe tbody tr th {\n",
       "        vertical-align: top;\n",
       "    }\n",
       "\n",
       "    .dataframe thead th {\n",
       "        text-align: right;\n",
       "    }\n",
       "</style>\n",
       "<table border=\"1\" class=\"dataframe\">\n",
       "  <thead>\n",
       "    <tr style=\"text-align: right;\">\n",
       "      <th></th>\n",
       "      <th>CustomerID</th>\n",
       "      <th>Name</th>\n",
       "      <th>Age</th>\n",
       "      <th>Gender</th>\n",
       "      <th>Location</th>\n",
       "      <th>Subscription_Length_Months</th>\n",
       "      <th>Monthly_Bill</th>\n",
       "      <th>Total_Usage_GB</th>\n",
       "      <th>Churn</th>\n",
       "    </tr>\n",
       "  </thead>\n",
       "  <tbody>\n",
       "    <tr>\n",
       "      <th>0</th>\n",
       "      <td>1.0</td>\n",
       "      <td>Customer_1</td>\n",
       "      <td>63.0</td>\n",
       "      <td>Male</td>\n",
       "      <td>Los Angeles</td>\n",
       "      <td>17.0</td>\n",
       "      <td>73.36</td>\n",
       "      <td>236.0</td>\n",
       "      <td>0.0</td>\n",
       "    </tr>\n",
       "    <tr>\n",
       "      <th>1</th>\n",
       "      <td>2.0</td>\n",
       "      <td>Customer_2</td>\n",
       "      <td>62.0</td>\n",
       "      <td>Female</td>\n",
       "      <td>New York</td>\n",
       "      <td>1.0</td>\n",
       "      <td>48.76</td>\n",
       "      <td>172.0</td>\n",
       "      <td>0.0</td>\n",
       "    </tr>\n",
       "    <tr>\n",
       "      <th>2</th>\n",
       "      <td>3.0</td>\n",
       "      <td>Customer_3</td>\n",
       "      <td>24.0</td>\n",
       "      <td>Female</td>\n",
       "      <td>Los Angeles</td>\n",
       "      <td>5.0</td>\n",
       "      <td>85.47</td>\n",
       "      <td>460.0</td>\n",
       "      <td>0.0</td>\n",
       "    </tr>\n",
       "    <tr>\n",
       "      <th>3</th>\n",
       "      <td>4.0</td>\n",
       "      <td>Customer_4</td>\n",
       "      <td>36.0</td>\n",
       "      <td>Female</td>\n",
       "      <td>Miami</td>\n",
       "      <td>3.0</td>\n",
       "      <td>97.94</td>\n",
       "      <td>297.0</td>\n",
       "      <td>1.0</td>\n",
       "    </tr>\n",
       "    <tr>\n",
       "      <th>4</th>\n",
       "      <td>5.0</td>\n",
       "      <td>Customer_5</td>\n",
       "      <td>46.0</td>\n",
       "      <td>Female</td>\n",
       "      <td>Miami</td>\n",
       "      <td>19.0</td>\n",
       "      <td>58.14</td>\n",
       "      <td>266.0</td>\n",
       "      <td>0.0</td>\n",
       "    </tr>\n",
       "    <tr>\n",
       "      <th>5</th>\n",
       "      <td>6.0</td>\n",
       "      <td>Customer_6</td>\n",
       "      <td>67.0</td>\n",
       "      <td>Male</td>\n",
       "      <td>New York</td>\n",
       "      <td>15.0</td>\n",
       "      <td>82.65</td>\n",
       "      <td>456.0</td>\n",
       "      <td>1.0</td>\n",
       "    </tr>\n",
       "    <tr>\n",
       "      <th>6</th>\n",
       "      <td>7.0</td>\n",
       "      <td>Customer_7</td>\n",
       "      <td>30.0</td>\n",
       "      <td>Female</td>\n",
       "      <td>Chicago</td>\n",
       "      <td>3.0</td>\n",
       "      <td>73.79</td>\n",
       "      <td>269.0</td>\n",
       "      <td>0.0</td>\n",
       "    </tr>\n",
       "    <tr>\n",
       "      <th>7</th>\n",
       "      <td>8.0</td>\n",
       "      <td>Customer_8</td>\n",
       "      <td>67.0</td>\n",
       "      <td>Female</td>\n",
       "      <td>Miami</td>\n",
       "      <td>1.0</td>\n",
       "      <td>97.70</td>\n",
       "      <td>396.0</td>\n",
       "      <td>1.0</td>\n",
       "    </tr>\n",
       "    <tr>\n",
       "      <th>8</th>\n",
       "      <td>9.0</td>\n",
       "      <td>Customer_9</td>\n",
       "      <td>20.0</td>\n",
       "      <td>Female</td>\n",
       "      <td>Miami</td>\n",
       "      <td>10.0</td>\n",
       "      <td>42.45</td>\n",
       "      <td>150.0</td>\n",
       "      <td>1.0</td>\n",
       "    </tr>\n",
       "    <tr>\n",
       "      <th>9</th>\n",
       "      <td>10.0</td>\n",
       "      <td>Customer_10</td>\n",
       "      <td>53.0</td>\n",
       "      <td>Female</td>\n",
       "      <td>Los Angeles</td>\n",
       "      <td>12.0</td>\n",
       "      <td>64.49</td>\n",
       "      <td>383.0</td>\n",
       "      <td>1.0</td>\n",
       "    </tr>\n",
       "  </tbody>\n",
       "</table>\n",
       "</div>"
      ],
      "text/plain": [
       "   CustomerID         Name   Age  Gender     Location  \\\n",
       "0         1.0   Customer_1  63.0    Male  Los Angeles   \n",
       "1         2.0   Customer_2  62.0  Female     New York   \n",
       "2         3.0   Customer_3  24.0  Female  Los Angeles   \n",
       "3         4.0   Customer_4  36.0  Female        Miami   \n",
       "4         5.0   Customer_5  46.0  Female        Miami   \n",
       "5         6.0   Customer_6  67.0    Male     New York   \n",
       "6         7.0   Customer_7  30.0  Female      Chicago   \n",
       "7         8.0   Customer_8  67.0  Female        Miami   \n",
       "8         9.0   Customer_9  20.0  Female        Miami   \n",
       "9        10.0  Customer_10  53.0  Female  Los Angeles   \n",
       "\n",
       "   Subscription_Length_Months  Monthly_Bill  Total_Usage_GB  Churn  \n",
       "0                        17.0         73.36           236.0    0.0  \n",
       "1                         1.0         48.76           172.0    0.0  \n",
       "2                         5.0         85.47           460.0    0.0  \n",
       "3                         3.0         97.94           297.0    1.0  \n",
       "4                        19.0         58.14           266.0    0.0  \n",
       "5                        15.0         82.65           456.0    1.0  \n",
       "6                         3.0         73.79           269.0    0.0  \n",
       "7                         1.0         97.70           396.0    1.0  \n",
       "8                        10.0         42.45           150.0    1.0  \n",
       "9                        12.0         64.49           383.0    1.0  "
      ]
     },
     "execution_count": 4,
     "metadata": {},
     "output_type": "execute_result"
    }
   ],
   "source": [
    "#Loading the dataset\n",
    "df_churn=pd.read_excel(\"C:\\data science\\customer_churn_large_dataset.xlsx\")\n",
    "#pd.options.display.max_rows=None\n",
    "df_churn.head(10)"
   ]
  },
  {
   "cell_type": "markdown",
   "id": "a38a97db",
   "metadata": {},
   "source": [
    "####  *  Starting the EDA"
   ]
  },
  {
   "cell_type": "code",
   "execution_count": 5,
   "id": "363793cd",
   "metadata": {},
   "outputs": [
    {
     "data": {
      "text/plain": [
       "(100000, 9)"
      ]
     },
     "execution_count": 5,
     "metadata": {},
     "output_type": "execute_result"
    }
   ],
   "source": [
    "# Checking Configuration of Dataset\n",
    "df_churn.shape"
   ]
  },
  {
   "cell_type": "markdown",
   "id": "bf64b8fe",
   "metadata": {},
   "source": [
    "Obs- We can see the dataset is a very huge with 100000 Rows and 9 Columns"
   ]
  },
  {
   "cell_type": "code",
   "execution_count": 6,
   "id": "390d5a25",
   "metadata": {},
   "outputs": [
    {
     "data": {
      "text/plain": [
       "Index(['CustomerID', 'Name', 'Age', 'Gender', 'Location',\n",
       "       'Subscription_Length_Months', 'Monthly_Bill', 'Total_Usage_GB',\n",
       "       'Churn'],\n",
       "      dtype='object')"
      ]
     },
     "execution_count": 6,
     "metadata": {},
     "output_type": "execute_result"
    }
   ],
   "source": [
    "# Checking the Columns\n",
    "df_churn.columns"
   ]
  },
  {
   "cell_type": "markdown",
   "id": "28162260",
   "metadata": {},
   "source": [
    "Obs- The output column is 'Churn' which is affected by the other 8 input columns"
   ]
  },
  {
   "cell_type": "code",
   "execution_count": 7,
   "id": "6447b52d",
   "metadata": {},
   "outputs": [
    {
     "data": {
      "text/plain": [
       "CustomerID                    float64\n",
       "Name                           object\n",
       "Age                           float64\n",
       "Gender                         object\n",
       "Location                       object\n",
       "Subscription_Length_Months    float64\n",
       "Monthly_Bill                  float64\n",
       "Total_Usage_GB                float64\n",
       "Churn                         float64\n",
       "dtype: object"
      ]
     },
     "execution_count": 7,
     "metadata": {},
     "output_type": "execute_result"
    }
   ],
   "source": [
    "# Checking data types of attributes\n",
    "df_churn.dtypes"
   ]
  },
  {
   "cell_type": "markdown",
   "id": "dd48c5e2",
   "metadata": {},
   "source": [
    "Obs- We can see the dataset contains both continuous and categorical columns."
   ]
  },
  {
   "cell_type": "code",
   "execution_count": 8,
   "id": "a6a7ba9a",
   "metadata": {},
   "outputs": [
    {
     "data": {
      "text/plain": [
       "CustomerID                    0\n",
       "Name                          0\n",
       "Age                           0\n",
       "Gender                        0\n",
       "Location                      0\n",
       "Subscription_Length_Months    0\n",
       "Monthly_Bill                  0\n",
       "Total_Usage_GB                0\n",
       "Churn                         0\n",
       "dtype: int64"
      ]
     },
     "execution_count": 8,
     "metadata": {},
     "output_type": "execute_result"
    }
   ],
   "source": [
    "# Checking for null values if any\n",
    "df_churn.isnull().sum()"
   ]
  },
  {
   "cell_type": "markdown",
   "id": "2db75613",
   "metadata": {},
   "source": [
    "Obs- We can see there is no null values present in the dataset"
   ]
  },
  {
   "cell_type": "code",
   "execution_count": 9,
   "id": "4c85b33e",
   "metadata": {},
   "outputs": [
    {
     "data": {
      "text/html": [
       "<div>\n",
       "<style scoped>\n",
       "    .dataframe tbody tr th:only-of-type {\n",
       "        vertical-align: middle;\n",
       "    }\n",
       "\n",
       "    .dataframe tbody tr th {\n",
       "        vertical-align: top;\n",
       "    }\n",
       "\n",
       "    .dataframe thead th {\n",
       "        text-align: right;\n",
       "    }\n",
       "</style>\n",
       "<table border=\"1\" class=\"dataframe\">\n",
       "  <thead>\n",
       "    <tr style=\"text-align: right;\">\n",
       "      <th></th>\n",
       "      <th>CustomerID</th>\n",
       "      <th>Name</th>\n",
       "      <th>Age</th>\n",
       "      <th>Gender</th>\n",
       "      <th>Location</th>\n",
       "      <th>Subscription_Length_Months</th>\n",
       "      <th>Monthly_Bill</th>\n",
       "      <th>Total_Usage_GB</th>\n",
       "      <th>Churn</th>\n",
       "    </tr>\n",
       "  </thead>\n",
       "  <tbody>\n",
       "    <tr>\n",
       "      <th>0</th>\n",
       "      <td>False</td>\n",
       "      <td>False</td>\n",
       "      <td>False</td>\n",
       "      <td>False</td>\n",
       "      <td>False</td>\n",
       "      <td>False</td>\n",
       "      <td>False</td>\n",
       "      <td>False</td>\n",
       "      <td>False</td>\n",
       "    </tr>\n",
       "    <tr>\n",
       "      <th>1</th>\n",
       "      <td>False</td>\n",
       "      <td>False</td>\n",
       "      <td>False</td>\n",
       "      <td>False</td>\n",
       "      <td>False</td>\n",
       "      <td>False</td>\n",
       "      <td>False</td>\n",
       "      <td>False</td>\n",
       "      <td>False</td>\n",
       "    </tr>\n",
       "    <tr>\n",
       "      <th>2</th>\n",
       "      <td>False</td>\n",
       "      <td>False</td>\n",
       "      <td>False</td>\n",
       "      <td>False</td>\n",
       "      <td>False</td>\n",
       "      <td>False</td>\n",
       "      <td>False</td>\n",
       "      <td>False</td>\n",
       "      <td>False</td>\n",
       "    </tr>\n",
       "    <tr>\n",
       "      <th>3</th>\n",
       "      <td>False</td>\n",
       "      <td>False</td>\n",
       "      <td>False</td>\n",
       "      <td>False</td>\n",
       "      <td>False</td>\n",
       "      <td>False</td>\n",
       "      <td>False</td>\n",
       "      <td>False</td>\n",
       "      <td>False</td>\n",
       "    </tr>\n",
       "    <tr>\n",
       "      <th>4</th>\n",
       "      <td>False</td>\n",
       "      <td>False</td>\n",
       "      <td>False</td>\n",
       "      <td>False</td>\n",
       "      <td>False</td>\n",
       "      <td>False</td>\n",
       "      <td>False</td>\n",
       "      <td>False</td>\n",
       "      <td>False</td>\n",
       "    </tr>\n",
       "    <tr>\n",
       "      <th>...</th>\n",
       "      <td>...</td>\n",
       "      <td>...</td>\n",
       "      <td>...</td>\n",
       "      <td>...</td>\n",
       "      <td>...</td>\n",
       "      <td>...</td>\n",
       "      <td>...</td>\n",
       "      <td>...</td>\n",
       "      <td>...</td>\n",
       "    </tr>\n",
       "    <tr>\n",
       "      <th>99995</th>\n",
       "      <td>False</td>\n",
       "      <td>False</td>\n",
       "      <td>False</td>\n",
       "      <td>False</td>\n",
       "      <td>False</td>\n",
       "      <td>False</td>\n",
       "      <td>False</td>\n",
       "      <td>False</td>\n",
       "      <td>False</td>\n",
       "    </tr>\n",
       "    <tr>\n",
       "      <th>99996</th>\n",
       "      <td>False</td>\n",
       "      <td>False</td>\n",
       "      <td>False</td>\n",
       "      <td>False</td>\n",
       "      <td>False</td>\n",
       "      <td>False</td>\n",
       "      <td>False</td>\n",
       "      <td>False</td>\n",
       "      <td>False</td>\n",
       "    </tr>\n",
       "    <tr>\n",
       "      <th>99997</th>\n",
       "      <td>False</td>\n",
       "      <td>False</td>\n",
       "      <td>False</td>\n",
       "      <td>False</td>\n",
       "      <td>False</td>\n",
       "      <td>False</td>\n",
       "      <td>False</td>\n",
       "      <td>False</td>\n",
       "      <td>False</td>\n",
       "    </tr>\n",
       "    <tr>\n",
       "      <th>99998</th>\n",
       "      <td>False</td>\n",
       "      <td>False</td>\n",
       "      <td>False</td>\n",
       "      <td>False</td>\n",
       "      <td>False</td>\n",
       "      <td>False</td>\n",
       "      <td>False</td>\n",
       "      <td>False</td>\n",
       "      <td>False</td>\n",
       "    </tr>\n",
       "    <tr>\n",
       "      <th>99999</th>\n",
       "      <td>False</td>\n",
       "      <td>False</td>\n",
       "      <td>False</td>\n",
       "      <td>False</td>\n",
       "      <td>False</td>\n",
       "      <td>False</td>\n",
       "      <td>False</td>\n",
       "      <td>False</td>\n",
       "      <td>False</td>\n",
       "    </tr>\n",
       "  </tbody>\n",
       "</table>\n",
       "<p>100000 rows × 9 columns</p>\n",
       "</div>"
      ],
      "text/plain": [
       "       CustomerID   Name    Age  Gender  Location  Subscription_Length_Months  \\\n",
       "0           False  False  False   False     False                       False   \n",
       "1           False  False  False   False     False                       False   \n",
       "2           False  False  False   False     False                       False   \n",
       "3           False  False  False   False     False                       False   \n",
       "4           False  False  False   False     False                       False   \n",
       "...           ...    ...    ...     ...       ...                         ...   \n",
       "99995       False  False  False   False     False                       False   \n",
       "99996       False  False  False   False     False                       False   \n",
       "99997       False  False  False   False     False                       False   \n",
       "99998       False  False  False   False     False                       False   \n",
       "99999       False  False  False   False     False                       False   \n",
       "\n",
       "       Monthly_Bill  Total_Usage_GB  Churn  \n",
       "0             False           False  False  \n",
       "1             False           False  False  \n",
       "2             False           False  False  \n",
       "3             False           False  False  \n",
       "4             False           False  False  \n",
       "...             ...             ...    ...  \n",
       "99995         False           False  False  \n",
       "99996         False           False  False  \n",
       "99997         False           False  False  \n",
       "99998         False           False  False  \n",
       "99999         False           False  False  \n",
       "\n",
       "[100000 rows x 9 columns]"
      ]
     },
     "execution_count": 9,
     "metadata": {},
     "output_type": "execute_result"
    }
   ],
   "source": [
    "# Checking for white spaces\n",
    "#pd.options.display.max_columns=None\n",
    "#pd.options.display.max_rows=None\n",
    "df_churn.loc[0:]==\" \""
   ]
  },
  {
   "cell_type": "markdown",
   "id": "c591385e",
   "metadata": {},
   "source": [
    "Obs- There is no white space in the database (Viewed it by setting, display max rows, max columns)"
   ]
  },
  {
   "cell_type": "code",
   "execution_count": 10,
   "id": "ea657dea",
   "metadata": {},
   "outputs": [
    {
     "data": {
      "text/plain": [
       "0"
      ]
     },
     "execution_count": 10,
     "metadata": {},
     "output_type": "execute_result"
    }
   ],
   "source": [
    "#Check for duplicate data\n",
    "df_churn.duplicated().sum()"
   ]
  },
  {
   "cell_type": "markdown",
   "id": "90aed3c8",
   "metadata": {},
   "source": [
    "Obs- There is no duplicate data present in the dataset"
   ]
  },
  {
   "cell_type": "markdown",
   "id": "05c834d6",
   "metadata": {},
   "source": [
    "#### * Drop Irrelevant Column"
   ]
  },
  {
   "cell_type": "markdown",
   "id": "0373c039",
   "metadata": {},
   "source": [
    "Since CustomerID and Customer Name does not have any contribution in predicting the target, we will drop these columns"
   ]
  },
  {
   "cell_type": "code",
   "execution_count": 11,
   "id": "4952828f",
   "metadata": {},
   "outputs": [],
   "source": [
    "df_churn.drop('CustomerID',axis=1,inplace=True)"
   ]
  },
  {
   "cell_type": "code",
   "execution_count": 12,
   "id": "8eb89123",
   "metadata": {},
   "outputs": [
    {
     "data": {
      "text/plain": [
       "(100000, 8)"
      ]
     },
     "execution_count": 12,
     "metadata": {},
     "output_type": "execute_result"
    }
   ],
   "source": [
    "df_churn.shape"
   ]
  },
  {
   "cell_type": "code",
   "execution_count": 13,
   "id": "a58e8a1b",
   "metadata": {},
   "outputs": [],
   "source": [
    "df_churn.drop('Name',axis=1,inplace=True)"
   ]
  },
  {
   "cell_type": "code",
   "execution_count": 14,
   "id": "bb2c771f",
   "metadata": {},
   "outputs": [
    {
     "data": {
      "text/plain": [
       "(100000, 7)"
      ]
     },
     "execution_count": 14,
     "metadata": {},
     "output_type": "execute_result"
    }
   ],
   "source": [
    "df_churn.shape"
   ]
  },
  {
   "cell_type": "markdown",
   "id": "8f11a8cd",
   "metadata": {},
   "source": [
    "Obs- We can see both the irrelevant columns are been dropped"
   ]
  },
  {
   "cell_type": "code",
   "execution_count": 15,
   "id": "85a1e005",
   "metadata": {
    "scrolled": true
   },
   "outputs": [
    {
     "data": {
      "text/plain": [
       "Age                             53\n",
       "Gender                           2\n",
       "Location                         5\n",
       "Subscription_Length_Months      24\n",
       "Monthly_Bill                  7001\n",
       "Total_Usage_GB                 451\n",
       "Churn                            2\n",
       "dtype: int64"
      ]
     },
     "execution_count": 15,
     "metadata": {},
     "output_type": "execute_result"
    }
   ],
   "source": [
    "# Checking the Unique Values in each column\n",
    "df_churn.nunique()"
   ]
  },
  {
   "cell_type": "markdown",
   "id": "1e74bbc4",
   "metadata": {},
   "source": [
    "#### * Seperating Numerical and Categorical Column"
   ]
  },
  {
   "cell_type": "code",
   "execution_count": 16,
   "id": "43854bb5",
   "metadata": {},
   "outputs": [],
   "source": [
    "cat_cols = [x for x in df_churn.columns if df_churn[x].dtypes=='O']\n",
    "\n",
    "num_cols = [y for y in df_churn.columns if df_churn[y].dtypes!='O']"
   ]
  },
  {
   "cell_type": "markdown",
   "id": "9d59811a",
   "metadata": {},
   "source": [
    "#### * Visualization"
   ]
  },
  {
   "cell_type": "code",
   "execution_count": 17,
   "id": "63e066fa",
   "metadata": {},
   "outputs": [
    {
     "name": "stdout",
     "output_type": "stream",
     "text": [
      "Female    50216\n",
      "Male      49784\n",
      "Name: Gender, dtype: int64\n"
     ]
    },
    {
     "data": {
      "image/png": "[encoded data removed]",
      "text/plain": [
       "<Figure size 504x360 with 1 Axes>"
      ]
     },
     "metadata": {
      "needs_background": "light"
     },
     "output_type": "display_data"
    }
   ],
   "source": [
    "# Count plot to check individual value counts of 'gender'\n",
    "print(df_churn['Gender'].value_counts())\n",
    "\n",
    "plt.figure(figsize=(7,5))\n",
    "sns.countplot(df_churn['Gender'])\n",
    "plt.show()"
   ]
  },
  {
   "cell_type": "markdown",
   "id": "68527a69",
   "metadata": {},
   "source": [
    "Obs- There is almost similar no. of both male and females who use telecom services"
   ]
  },
  {
   "cell_type": "code",
   "execution_count": 18,
   "id": "3e0433f3",
   "metadata": {},
   "outputs": [
    {
     "name": "stdout",
     "output_type": "stream",
     "text": [
      "Houston        20157\n",
      "Los Angeles    20041\n",
      "Miami          20031\n",
      "Chicago        19958\n",
      "New York       19813\n",
      "Name: Location, dtype: int64\n"
     ]
    },
    {
     "data": {
      "image/png": "[encoded data removed]",
      "text/plain": [
       "<Figure size 504x360 with 1 Axes>"
      ]
     },
     "metadata": {
      "needs_background": "light"
     },
     "output_type": "display_data"
    },
    {
     "data": {
      "image/png": "[encoded data removed]",
      "text/plain": [
       "<Figure size 432x288 with 1 Axes>"
      ]
     },
     "metadata": {},
     "output_type": "display_data"
    }
   ],
   "source": [
    "# Count plot to check individual value counts of 'Location'\n",
    "print(df_churn['Location'].value_counts())\n",
    "\n",
    "plt.figure(figsize=(7,5))\n",
    "sns.countplot(df_churn['Location'])\n",
    "fig, ax = plt.subplots()\n",
    "ax.pie(df_churn['Location'].value_counts(),labels = ['Houston','Los Angeles','Miami','Chicago','NewYork'], radius=1.8,autopct='%1.2f%%',colors=['steelblue','orange','green','red','purple'])\n",
    "plt.show()"
   ]
  },
  {
   "cell_type": "markdown",
   "id": "7ed30d59",
   "metadata": {},
   "source": [
    "Obs- We can see almost similar count of customers from all the 5 locations"
   ]
  },
  {
   "cell_type": "markdown",
   "id": "718f0e69",
   "metadata": {},
   "source": [
    "Obs- There is an almost equal proportion of people who have as well as don't have partners"
   ]
  },
  {
   "cell_type": "code",
   "execution_count": 19,
   "id": "a3e59976",
   "metadata": {},
   "outputs": [
    {
     "name": "stdout",
     "output_type": "stream",
     "text": [
      "0.0    50221\n",
      "1.0    49779\n",
      "Name: Churn, dtype: int64\n"
     ]
    },
    {
     "data": {
      "image/png": "[encoded data removed]",
      "text/plain": [
       "<Figure size 504x360 with 1 Axes>"
      ]
     },
     "metadata": {
      "needs_background": "light"
     },
     "output_type": "display_data"
    }
   ],
   "source": [
    "# Count plot to check individual value counts of 'churn'\n",
    "print(df_churn['Churn'].value_counts())\n",
    "\n",
    "plt.figure(figsize=(7,5))\n",
    "sns.countplot(df_churn['Churn'])\n",
    "plt.show()"
   ]
  },
  {
   "cell_type": "markdown",
   "id": "d0238896",
   "metadata": {},
   "source": [
    "Obs- We can see the data is quite balanced"
   ]
  },
  {
   "cell_type": "code",
   "execution_count": 20,
   "id": "0072e766",
   "metadata": {},
   "outputs": [
    {
     "data": {
      "image/png": "[encoded data removed]",
      "text/plain": [
       "<Figure size 1008x720 with 5 Axes>"
      ]
     },
     "metadata": {
      "needs_background": "light"
     },
     "output_type": "display_data"
    }
   ],
   "source": [
    "# Distribution plot to check skewness in the numerical features\n",
    "plt.figure(figsize=(14,10))\n",
    "plotnumber=1\n",
    "\n",
    "for column in df_churn[num_cols]:\n",
    "    if plotnumber<=5: #as there are 5 numerical columns \n",
    "        ax=plt.subplot(2,3,plotnumber)\n",
    "        sns.distplot(df_churn[column])\n",
    "        plt.xlabel(column,fontsize=15)\n",
    "    plotnumber +=1\n",
    "plt.show()"
   ]
  },
  {
   "cell_type": "markdown",
   "id": "18ce96a3",
   "metadata": {},
   "source": [
    "Obs- We can observe a very little right skewness in columns 'Subscription_Length_Months','Total_Usage_GB'and 'Churn'"
   ]
  },
  {
   "cell_type": "code",
   "execution_count": 21,
   "id": "1db381d7",
   "metadata": {},
   "outputs": [
    {
     "data": {
      "image/png": "[encoded data removed]",
      "text/plain": [
       "<Figure size 2160x2160 with 20 Axes>"
      ]
     },
     "metadata": {
      "needs_background": "light"
     },
     "output_type": "display_data"
    }
   ],
   "source": [
    "#box plot to check outliers\n",
    "df_churn.plot(kind='box',subplots=True,layout=(5,4),figsize=(30,30))\n",
    "plt.show()"
   ]
  },
  {
   "cell_type": "markdown",
   "id": "ae8f9580",
   "metadata": {},
   "source": [
    "Obs- We can see there are no outliers in any columns so no need to treat them."
   ]
  },
  {
   "cell_type": "markdown",
   "id": "f4225d5d",
   "metadata": {},
   "source": [
    "#### * Label Encoding"
   ]
  },
  {
   "cell_type": "code",
   "execution_count": 22,
   "id": "d3827579",
   "metadata": {},
   "outputs": [],
   "source": [
    "from sklearn.preprocessing import LabelEncoder"
   ]
  },
  {
   "cell_type": "code",
   "execution_count": 23,
   "id": "db4979ed",
   "metadata": {},
   "outputs": [],
   "source": [
    "for col in df_churn[cat_cols]:\n",
    "    le = LabelEncoder()\n",
    "    df_churn[col] = le.fit_transform(df_churn[col])"
   ]
  },
  {
   "cell_type": "code",
   "execution_count": 24,
   "id": "970b25fe",
   "metadata": {},
   "outputs": [
    {
     "data": {
      "text/html": [
       "<div>\n",
       "<style scoped>\n",
       "    .dataframe tbody tr th:only-of-type {\n",
       "        vertical-align: middle;\n",
       "    }\n",
       "\n",
       "    .dataframe tbody tr th {\n",
       "        vertical-align: top;\n",
       "    }\n",
       "\n",
       "    .dataframe thead th {\n",
       "        text-align: right;\n",
       "    }\n",
       "</style>\n",
       "<table border=\"1\" class=\"dataframe\">\n",
       "  <thead>\n",
       "    <tr style=\"text-align: right;\">\n",
       "      <th></th>\n",
       "      <th>Age</th>\n",
       "      <th>Gender</th>\n",
       "      <th>Location</th>\n",
       "      <th>Subscription_Length_Months</th>\n",
       "      <th>Monthly_Bill</th>\n",
       "      <th>Total_Usage_GB</th>\n",
       "      <th>Churn</th>\n",
       "    </tr>\n",
       "  </thead>\n",
       "  <tbody>\n",
       "    <tr>\n",
       "      <th>0</th>\n",
       "      <td>63.0</td>\n",
       "      <td>1</td>\n",
       "      <td>2</td>\n",
       "      <td>17.0</td>\n",
       "      <td>73.36</td>\n",
       "      <td>236.0</td>\n",
       "      <td>0.0</td>\n",
       "    </tr>\n",
       "    <tr>\n",
       "      <th>1</th>\n",
       "      <td>62.0</td>\n",
       "      <td>0</td>\n",
       "      <td>4</td>\n",
       "      <td>1.0</td>\n",
       "      <td>48.76</td>\n",
       "      <td>172.0</td>\n",
       "      <td>0.0</td>\n",
       "    </tr>\n",
       "    <tr>\n",
       "      <th>2</th>\n",
       "      <td>24.0</td>\n",
       "      <td>0</td>\n",
       "      <td>2</td>\n",
       "      <td>5.0</td>\n",
       "      <td>85.47</td>\n",
       "      <td>460.0</td>\n",
       "      <td>0.0</td>\n",
       "    </tr>\n",
       "    <tr>\n",
       "      <th>3</th>\n",
       "      <td>36.0</td>\n",
       "      <td>0</td>\n",
       "      <td>3</td>\n",
       "      <td>3.0</td>\n",
       "      <td>97.94</td>\n",
       "      <td>297.0</td>\n",
       "      <td>1.0</td>\n",
       "    </tr>\n",
       "    <tr>\n",
       "      <th>4</th>\n",
       "      <td>46.0</td>\n",
       "      <td>0</td>\n",
       "      <td>3</td>\n",
       "      <td>19.0</td>\n",
       "      <td>58.14</td>\n",
       "      <td>266.0</td>\n",
       "      <td>0.0</td>\n",
       "    </tr>\n",
       "  </tbody>\n",
       "</table>\n",
       "</div>"
      ],
      "text/plain": [
       "    Age  Gender  Location  Subscription_Length_Months  Monthly_Bill  \\\n",
       "0  63.0       1         2                        17.0         73.36   \n",
       "1  62.0       0         4                         1.0         48.76   \n",
       "2  24.0       0         2                         5.0         85.47   \n",
       "3  36.0       0         3                         3.0         97.94   \n",
       "4  46.0       0         3                        19.0         58.14   \n",
       "\n",
       "   Total_Usage_GB  Churn  \n",
       "0           236.0    0.0  \n",
       "1           172.0    0.0  \n",
       "2           460.0    0.0  \n",
       "3           297.0    1.0  \n",
       "4           266.0    0.0  "
      ]
     },
     "execution_count": 24,
     "metadata": {},
     "output_type": "execute_result"
    }
   ],
   "source": [
    "df_churn.head()"
   ]
  },
  {
   "cell_type": "markdown",
   "id": "f939c71e",
   "metadata": {},
   "source": [
    "Obs- We can see all the categorical columns have been encoded"
   ]
  },
  {
   "cell_type": "markdown",
   "id": "c3df709e",
   "metadata": {},
   "source": [
    "#### * Describing the dataset"
   ]
  },
  {
   "cell_type": "code",
   "execution_count": 25,
   "id": "f7c0ecb1",
   "metadata": {},
   "outputs": [
    {
     "data": {
      "text/html": [
       "<div>\n",
       "<style scoped>\n",
       "    .dataframe tbody tr th:only-of-type {\n",
       "        vertical-align: middle;\n",
       "    }\n",
       "\n",
       "    .dataframe tbody tr th {\n",
       "        vertical-align: top;\n",
       "    }\n",
       "\n",
       "    .dataframe thead th {\n",
       "        text-align: right;\n",
       "    }\n",
       "</style>\n",
       "<table border=\"1\" class=\"dataframe\">\n",
       "  <thead>\n",
       "    <tr style=\"text-align: right;\">\n",
       "      <th></th>\n",
       "      <th>Age</th>\n",
       "      <th>Gender</th>\n",
       "      <th>Location</th>\n",
       "      <th>Subscription_Length_Months</th>\n",
       "      <th>Monthly_Bill</th>\n",
       "      <th>Total_Usage_GB</th>\n",
       "      <th>Churn</th>\n",
       "    </tr>\n",
       "  </thead>\n",
       "  <tbody>\n",
       "    <tr>\n",
       "      <th>count</th>\n",
       "      <td>100000.000000</td>\n",
       "      <td>100000.000000</td>\n",
       "      <td>100000.000000</td>\n",
       "      <td>100000.000000</td>\n",
       "      <td>100000.000000</td>\n",
       "      <td>100000.000000</td>\n",
       "      <td>100000.000000</td>\n",
       "    </tr>\n",
       "    <tr>\n",
       "      <th>mean</th>\n",
       "      <td>44.027020</td>\n",
       "      <td>0.497840</td>\n",
       "      <td>1.995840</td>\n",
       "      <td>12.490100</td>\n",
       "      <td>65.053197</td>\n",
       "      <td>274.393650</td>\n",
       "      <td>0.497790</td>\n",
       "    </tr>\n",
       "    <tr>\n",
       "      <th>std</th>\n",
       "      <td>15.280283</td>\n",
       "      <td>0.499998</td>\n",
       "      <td>1.411638</td>\n",
       "      <td>6.926461</td>\n",
       "      <td>20.230696</td>\n",
       "      <td>130.463063</td>\n",
       "      <td>0.499998</td>\n",
       "    </tr>\n",
       "    <tr>\n",
       "      <th>min</th>\n",
       "      <td>18.000000</td>\n",
       "      <td>0.000000</td>\n",
       "      <td>0.000000</td>\n",
       "      <td>1.000000</td>\n",
       "      <td>30.000000</td>\n",
       "      <td>50.000000</td>\n",
       "      <td>0.000000</td>\n",
       "    </tr>\n",
       "    <tr>\n",
       "      <th>25%</th>\n",
       "      <td>31.000000</td>\n",
       "      <td>0.000000</td>\n",
       "      <td>1.000000</td>\n",
       "      <td>6.000000</td>\n",
       "      <td>47.540000</td>\n",
       "      <td>161.000000</td>\n",
       "      <td>0.000000</td>\n",
       "    </tr>\n",
       "    <tr>\n",
       "      <th>50%</th>\n",
       "      <td>44.000000</td>\n",
       "      <td>0.000000</td>\n",
       "      <td>2.000000</td>\n",
       "      <td>12.000000</td>\n",
       "      <td>65.010000</td>\n",
       "      <td>274.000000</td>\n",
       "      <td>0.000000</td>\n",
       "    </tr>\n",
       "    <tr>\n",
       "      <th>75%</th>\n",
       "      <td>57.000000</td>\n",
       "      <td>1.000000</td>\n",
       "      <td>3.000000</td>\n",
       "      <td>19.000000</td>\n",
       "      <td>82.640000</td>\n",
       "      <td>387.000000</td>\n",
       "      <td>1.000000</td>\n",
       "    </tr>\n",
       "    <tr>\n",
       "      <th>max</th>\n",
       "      <td>70.000000</td>\n",
       "      <td>1.000000</td>\n",
       "      <td>4.000000</td>\n",
       "      <td>24.000000</td>\n",
       "      <td>100.000000</td>\n",
       "      <td>500.000000</td>\n",
       "      <td>1.000000</td>\n",
       "    </tr>\n",
       "  </tbody>\n",
       "</table>\n",
       "</div>"
      ],
      "text/plain": [
       "                 Age         Gender       Location  \\\n",
       "count  100000.000000  100000.000000  100000.000000   \n",
       "mean       44.027020       0.497840       1.995840   \n",
       "std        15.280283       0.499998       1.411638   \n",
       "min        18.000000       0.000000       0.000000   \n",
       "25%        31.000000       0.000000       1.000000   \n",
       "50%        44.000000       0.000000       2.000000   \n",
       "75%        57.000000       1.000000       3.000000   \n",
       "max        70.000000       1.000000       4.000000   \n",
       "\n",
       "       Subscription_Length_Months   Monthly_Bill  Total_Usage_GB  \\\n",
       "count               100000.000000  100000.000000   100000.000000   \n",
       "mean                    12.490100      65.053197      274.393650   \n",
       "std                      6.926461      20.230696      130.463063   \n",
       "min                      1.000000      30.000000       50.000000   \n",
       "25%                      6.000000      47.540000      161.000000   \n",
       "50%                     12.000000      65.010000      274.000000   \n",
       "75%                     19.000000      82.640000      387.000000   \n",
       "max                     24.000000     100.000000      500.000000   \n",
       "\n",
       "               Churn  \n",
       "count  100000.000000  \n",
       "mean        0.497790  \n",
       "std         0.499998  \n",
       "min         0.000000  \n",
       "25%         0.000000  \n",
       "50%         0.000000  \n",
       "75%         1.000000  \n",
       "max         1.000000  "
      ]
     },
     "execution_count": 25,
     "metadata": {},
     "output_type": "execute_result"
    }
   ],
   "source": [
    "df_churn.describe()"
   ]
  },
  {
   "cell_type": "markdown",
   "id": "fe6647d0",
   "metadata": {},
   "source": [
    "Obs- \n",
    "* We can see mean in columns 'Gender','Subscription_Length_Months','Total_Usage_GB','Churn' is greater than median and thus right skewness is present in these columns\n",
    "\n",
    "* Also the max of all the columns is also not exceeding the 75% invariably, and thus we can predict there are no outliers in any of the columns"
   ]
  },
  {
   "cell_type": "markdown",
   "id": "247d3f8e",
   "metadata": {},
   "source": [
    "### 2. Feature Engineering"
   ]
  },
  {
   "cell_type": "markdown",
   "id": "1db99e9b",
   "metadata": {},
   "source": [
    "#### * Checking Correlation "
   ]
  },
  {
   "cell_type": "code",
   "execution_count": 26,
   "id": "f96fd810",
   "metadata": {},
   "outputs": [
    {
     "data": {
      "text/html": [
       "<div>\n",
       "<style scoped>\n",
       "    .dataframe tbody tr th:only-of-type {\n",
       "        vertical-align: middle;\n",
       "    }\n",
       "\n",
       "    .dataframe tbody tr th {\n",
       "        vertical-align: top;\n",
       "    }\n",
       "\n",
       "    .dataframe thead th {\n",
       "        text-align: right;\n",
       "    }\n",
       "</style>\n",
       "<table border=\"1\" class=\"dataframe\">\n",
       "  <thead>\n",
       "    <tr style=\"text-align: right;\">\n",
       "      <th></th>\n",
       "      <th>Age</th>\n",
       "      <th>Gender</th>\n",
       "      <th>Location</th>\n",
       "      <th>Subscription_Length_Months</th>\n",
       "      <th>Monthly_Bill</th>\n",
       "      <th>Total_Usage_GB</th>\n",
       "      <th>Churn</th>\n",
       "    </tr>\n",
       "  </thead>\n",
       "  <tbody>\n",
       "    <tr>\n",
       "      <th>Age</th>\n",
       "      <td>1.000000</td>\n",
       "      <td>0.000832</td>\n",
       "      <td>-0.005889</td>\n",
       "      <td>0.003382</td>\n",
       "      <td>0.001110</td>\n",
       "      <td>0.001927</td>\n",
       "      <td>0.001559</td>\n",
       "    </tr>\n",
       "    <tr>\n",
       "      <th>Gender</th>\n",
       "      <td>0.000832</td>\n",
       "      <td>1.000000</td>\n",
       "      <td>-0.003314</td>\n",
       "      <td>0.000320</td>\n",
       "      <td>0.002239</td>\n",
       "      <td>-0.001385</td>\n",
       "      <td>0.002121</td>\n",
       "    </tr>\n",
       "    <tr>\n",
       "      <th>Location</th>\n",
       "      <td>-0.005889</td>\n",
       "      <td>-0.003314</td>\n",
       "      <td>1.000000</td>\n",
       "      <td>-0.001768</td>\n",
       "      <td>0.003716</td>\n",
       "      <td>0.002834</td>\n",
       "      <td>0.006405</td>\n",
       "    </tr>\n",
       "    <tr>\n",
       "      <th>Subscription_Length_Months</th>\n",
       "      <td>0.003382</td>\n",
       "      <td>0.000320</td>\n",
       "      <td>-0.001768</td>\n",
       "      <td>1.000000</td>\n",
       "      <td>-0.005294</td>\n",
       "      <td>-0.002203</td>\n",
       "      <td>0.002328</td>\n",
       "    </tr>\n",
       "    <tr>\n",
       "      <th>Monthly_Bill</th>\n",
       "      <td>0.001110</td>\n",
       "      <td>0.002239</td>\n",
       "      <td>0.003716</td>\n",
       "      <td>-0.005294</td>\n",
       "      <td>1.000000</td>\n",
       "      <td>0.003187</td>\n",
       "      <td>-0.000211</td>\n",
       "    </tr>\n",
       "    <tr>\n",
       "      <th>Total_Usage_GB</th>\n",
       "      <td>0.001927</td>\n",
       "      <td>-0.001385</td>\n",
       "      <td>0.002834</td>\n",
       "      <td>-0.002203</td>\n",
       "      <td>0.003187</td>\n",
       "      <td>1.000000</td>\n",
       "      <td>-0.002842</td>\n",
       "    </tr>\n",
       "    <tr>\n",
       "      <th>Churn</th>\n",
       "      <td>0.001559</td>\n",
       "      <td>0.002121</td>\n",
       "      <td>0.006405</td>\n",
       "      <td>0.002328</td>\n",
       "      <td>-0.000211</td>\n",
       "      <td>-0.002842</td>\n",
       "      <td>1.000000</td>\n",
       "    </tr>\n",
       "  </tbody>\n",
       "</table>\n",
       "</div>"
      ],
      "text/plain": [
       "                                 Age    Gender  Location  \\\n",
       "Age                         1.000000  0.000832 -0.005889   \n",
       "Gender                      0.000832  1.000000 -0.003314   \n",
       "Location                   -0.005889 -0.003314  1.000000   \n",
       "Subscription_Length_Months  0.003382  0.000320 -0.001768   \n",
       "Monthly_Bill                0.001110  0.002239  0.003716   \n",
       "Total_Usage_GB              0.001927 -0.001385  0.002834   \n",
       "Churn                       0.001559  0.002121  0.006405   \n",
       "\n",
       "                            Subscription_Length_Months  Monthly_Bill  \\\n",
       "Age                                           0.003382      0.001110   \n",
       "Gender                                        0.000320      0.002239   \n",
       "Location                                     -0.001768      0.003716   \n",
       "Subscription_Length_Months                    1.000000     -0.005294   \n",
       "Monthly_Bill                                 -0.005294      1.000000   \n",
       "Total_Usage_GB                               -0.002203      0.003187   \n",
       "Churn                                         0.002328     -0.000211   \n",
       "\n",
       "                            Total_Usage_GB     Churn  \n",
       "Age                               0.001927  0.001559  \n",
       "Gender                           -0.001385  0.002121  \n",
       "Location                          0.002834  0.006405  \n",
       "Subscription_Length_Months       -0.002203  0.002328  \n",
       "Monthly_Bill                      0.003187 -0.000211  \n",
       "Total_Usage_GB                    1.000000 -0.002842  \n",
       "Churn                            -0.002842  1.000000  "
      ]
     },
     "execution_count": 26,
     "metadata": {},
     "output_type": "execute_result"
    }
   ],
   "source": [
    "df_churn.corr()"
   ]
  },
  {
   "cell_type": "code",
   "execution_count": 27,
   "id": "44c0a427",
   "metadata": {},
   "outputs": [
    {
     "data": {
      "text/plain": [
       "<AxesSubplot:>"
      ]
     },
     "execution_count": 27,
     "metadata": {},
     "output_type": "execute_result"
    },
    {
     "data": {
      "image/png": "[encoded data removed]",
      "text/plain": [
       "<Figure size 864x432 with 2 Axes>"
      ]
     },
     "metadata": {
      "needs_background": "light"
     },
     "output_type": "display_data"
    }
   ],
   "source": [
    "# Correlation using heatmap\n",
    "plt.figure(figsize=(12,6))\n",
    "sns.heatmap(df_churn.corr(),annot=True,fmt='0.2f')"
   ]
  },
  {
   "cell_type": "markdown",
   "id": "fad22998",
   "metadata": {},
   "source": [
    "Obs- We can observe almost no correlation between any of the columns, and also with the target column too, and thus we will not be performing VIF to do feture engineering"
   ]
  },
  {
   "cell_type": "markdown",
   "id": "2acf662e",
   "metadata": {},
   "source": [
    "#### * Detecting Outliers and Treating them"
   ]
  },
  {
   "cell_type": "code",
   "execution_count": 28,
   "id": "60bd153d",
   "metadata": {},
   "outputs": [
    {
     "name": "stdout",
     "output_type": "stream",
     "text": [
      "(array([], dtype=int64), array([], dtype=int64))\n"
     ]
    }
   ],
   "source": [
    "#Method 1: Z-Score\n",
    "from scipy.stats import zscore\n",
    "z=np.abs(zscore(df_churn))\n",
    "threshold=3\n",
    "print(np.where(z>3))"
   ]
  },
  {
   "cell_type": "markdown",
   "id": "2b28bd8b",
   "metadata": {},
   "source": [
    "Obs- We can see no outliers are found using Z-Score method"
   ]
  },
  {
   "cell_type": "code",
   "execution_count": 29,
   "id": "a425fe35",
   "metadata": {},
   "outputs": [],
   "source": [
    "# Method 2: IQR(Inter Quartile) Method\n",
    "Q1=df_churn.quantile(0.25)\n",
    "Q3=df_churn.quantile(0.75)\n",
    "IQR=Q3 - Q1\n",
    "\n",
    "df_churn_new2=df_churn[~((df_churn < (Q1 - 1.5 * IQR)) |(df_churn > (Q3 + 1.5 * IQR))).any(axis=1)]"
   ]
  },
  {
   "cell_type": "code",
   "execution_count": 30,
   "id": "c7507aea",
   "metadata": {},
   "outputs": [
    {
     "name": "stdout",
     "output_type": "stream",
     "text": [
      "df_churn.shape: (100000, 7) \n",
      "df_churn_new2.shape: (100000, 7)\n"
     ]
    }
   ],
   "source": [
    "print(\"df_churn.shape:\",df_churn.shape, \"\\ndf_churn_new2.shape:\",df_churn_new2.shape)"
   ]
  },
  {
   "cell_type": "markdown",
   "id": "bee149c1",
   "metadata": {},
   "source": [
    "Obs- Through IQR too, we can see no outliers are present"
   ]
  },
  {
   "cell_type": "markdown",
   "id": "311f1652",
   "metadata": {},
   "source": [
    "#### * Data Transformation to treat Skewness"
   ]
  },
  {
   "cell_type": "code",
   "execution_count": 31,
   "id": "1ec99a00",
   "metadata": {},
   "outputs": [
    {
     "data": {
      "text/plain": [
       "Age                          -0.002689\n",
       "Gender                        0.008640\n",
       "Location                      0.004269\n",
       "Subscription_Length_Months   -0.001655\n",
       "Monthly_Bill                 -0.000326\n",
       "Total_Usage_GB                0.007113\n",
       "Churn                         0.008840\n",
       "dtype: float64"
      ]
     },
     "execution_count": 31,
     "metadata": {},
     "output_type": "execute_result"
    }
   ],
   "source": [
    "df_churn.skew()"
   ]
  },
  {
   "cell_type": "markdown",
   "id": "43f15c6e",
   "metadata": {},
   "source": [
    "Obs- We can see the skewness is within the permissible range and thus we will not be applying any transformation techniques."
   ]
  },
  {
   "cell_type": "markdown",
   "id": "e21203d5",
   "metadata": {},
   "source": [
    "### 3.  Model Building"
   ]
  },
  {
   "cell_type": "markdown",
   "id": "9f2a3750",
   "metadata": {},
   "source": [
    "#### Seperating Input and Target variables"
   ]
  },
  {
   "cell_type": "code",
   "execution_count": 32,
   "id": "441ba1a1",
   "metadata": {},
   "outputs": [],
   "source": [
    "x = df_churn.drop(\"Churn\",axis=1)\n",
    "y = df_churn[\"Churn\"]"
   ]
  },
  {
   "cell_type": "code",
   "execution_count": 33,
   "id": "06fa7104",
   "metadata": {},
   "outputs": [
    {
     "data": {
      "text/plain": [
       "(100000, 6)"
      ]
     },
     "execution_count": 33,
     "metadata": {},
     "output_type": "execute_result"
    }
   ],
   "source": [
    "x.shape"
   ]
  },
  {
   "cell_type": "code",
   "execution_count": 34,
   "id": "389c3992",
   "metadata": {},
   "outputs": [
    {
     "data": {
      "text/plain": [
       "(100000,)"
      ]
     },
     "execution_count": 34,
     "metadata": {},
     "output_type": "execute_result"
    }
   ],
   "source": [
    "y.shape"
   ]
  },
  {
   "cell_type": "markdown",
   "id": "09b25281",
   "metadata": {},
   "source": [
    "#### Checking for Imbalance in Target"
   ]
  },
  {
   "cell_type": "code",
   "execution_count": 35,
   "id": "d0e2f0b9",
   "metadata": {},
   "outputs": [
    {
     "name": "stdout",
     "output_type": "stream",
     "text": [
      "0.0    50221\n",
      "1.0    49779\n",
      "Name: Churn, dtype: int64\n"
     ]
    }
   ],
   "source": [
    "print(y.value_counts())"
   ]
  },
  {
   "cell_type": "markdown",
   "id": "1dfb5bad",
   "metadata": {},
   "source": [
    "Obs- We can see a very slight disbalance in the target data, balancing it through SMOTE"
   ]
  },
  {
   "cell_type": "markdown",
   "id": "a68df50c",
   "metadata": {},
   "source": [
    "#### Oversampling using SMOTE"
   ]
  },
  {
   "cell_type": "code",
   "execution_count": 36,
   "id": "31bdb202",
   "metadata": {},
   "outputs": [],
   "source": [
    "from imblearn.over_sampling import SMOTE\n",
    "SM = SMOTE()\n",
    "x,y= SM.fit_resample(x,y)"
   ]
  },
  {
   "cell_type": "code",
   "execution_count": 37,
   "id": "06696a64",
   "metadata": {},
   "outputs": [
    {
     "name": "stdout",
     "output_type": "stream",
     "text": [
      "0.0    50221\n",
      "1.0    50221\n",
      "Name: Churn, dtype: int64\n"
     ]
    }
   ],
   "source": [
    "print(y.value_counts())"
   ]
  },
  {
   "cell_type": "markdown",
   "id": "4f9c3435",
   "metadata": {},
   "source": [
    "#### * Classification Model \n",
    "(As the target is to compare several customer churn prediction, i.e whether the churn is Yes or No, we are building a clssification model)"
   ]
  },
  {
   "cell_type": "code",
   "execution_count": 38,
   "id": "5add55fa",
   "metadata": {},
   "outputs": [
    {
     "name": "stdout",
     "output_type": "stream",
     "text": [
      "Best accuracy is  0.5058573656788239  on Random_state  53\n"
     ]
    }
   ],
   "source": [
    "# Finding best Random State\n",
    "\n",
    "from sklearn.linear_model import LogisticRegression\n",
    "from sklearn.model_selection import train_test_split\n",
    "from sklearn.metrics import accuracy_score,confusion_matrix,classification_report\n",
    "maxAccu=0\n",
    "maxRS=0\n",
    "for i in range(1,200):\n",
    "    x_train,x_test,y_train,y_test = train_test_split(x,y,test_size=.30,random_state =i)\n",
    "    lg = LogisticRegression()\n",
    "    lg.fit(x_train, y_train)\n",
    "    predlg = lg.predict(x_test)\n",
    "    acc=accuracy_score(y_test, predlg)\n",
    "    if acc>maxAccu:\n",
    "        maxAccu=acc\n",
    "        maxRS=i\n",
    "print(\"Best accuracy is \",maxAccu,\" on Random_state \",maxRS)"
   ]
  },
  {
   "cell_type": "markdown",
   "id": "175bc7e7",
   "metadata": {},
   "source": [
    "#### * Splitting data into Train-Test"
   ]
  },
  {
   "cell_type": "code",
   "execution_count": 39,
   "id": "4304d305",
   "metadata": {},
   "outputs": [],
   "source": [
    "x_train,x_test,y_train,y_test=train_test_split(x,y,test_size=0.30,random_state=53)"
   ]
  },
  {
   "cell_type": "markdown",
   "id": "1d81f90a",
   "metadata": {},
   "source": [
    "#### * Using various Machine Learning Algorithms"
   ]
  },
  {
   "cell_type": "code",
   "execution_count": 40,
   "id": "a7577a2c",
   "metadata": {},
   "outputs": [],
   "source": [
    "#importing necessary libraries\n",
    "from sklearn.linear_model import LogisticRegression\n",
    "from sklearn.naive_bayes import GaussianNB\n",
    "from sklearn.tree import DecisionTreeClassifier\n",
    "from sklearn.neighbors import KNeighborsClassifier\n",
    "from sklearn.svm import SVC\n",
    "\n",
    "from sklearn.metrics import classification_report, confusion_matrix, roc_curve, roc_auc_score, accuracy_score\n",
    "\n",
    "from sklearn.ensemble import RandomForestClassifier\n",
    "from sklearn.ensemble import AdaBoostClassifier\n",
    "from sklearn.ensemble import GradientBoostingClassifier"
   ]
  },
  {
   "cell_type": "markdown",
   "id": "b30c52ec",
   "metadata": {},
   "source": [
    "#### 1. Logistic Regression"
   ]
  },
  {
   "cell_type": "code",
   "execution_count": 41,
   "id": "c087cc49",
   "metadata": {},
   "outputs": [
    {
     "name": "stdout",
     "output_type": "stream",
     "text": [
      "Accuracy: 0.5058573656788239\n",
      "Confusion Matrix:\n",
      " [[8996 6032]\n",
      " [8858 6247]]\n",
      "Classification Report:\n",
      "               precision    recall  f1-score   support\n",
      "\n",
      "         0.0       0.50      0.60      0.55     15028\n",
      "         1.0       0.51      0.41      0.46     15105\n",
      "\n",
      "    accuracy                           0.51     30133\n",
      "   macro avg       0.51      0.51      0.50     30133\n",
      "weighted avg       0.51      0.51      0.50     30133\n",
      "\n"
     ]
    }
   ],
   "source": [
    "lg=LogisticRegression()\n",
    "lg.fit(x_train,y_train)\n",
    "predlg=lg.predict(x_test)\n",
    "print(\"Accuracy:\",accuracy_score(y_test,predlg))\n",
    "print(\"Confusion Matrix:\\n\",confusion_matrix(y_test,predlg))\n",
    "print(\"Classification Report:\\n\",classification_report(y_test,predlg))"
   ]
  },
  {
   "cell_type": "markdown",
   "id": "c8c713c7",
   "metadata": {},
   "source": [
    "Obs- The Logistic Regression has provided the accuracy_score=0.5058573656788239, precision=0.50, recall=0.60 and f1-score=0.55"
   ]
  },
  {
   "cell_type": "markdown",
   "id": "3dd3fbad",
   "metadata": {},
   "source": [
    "#### 2. GaussianNB"
   ]
  },
  {
   "cell_type": "code",
   "execution_count": 42,
   "id": "6d2fc168",
   "metadata": {},
   "outputs": [
    {
     "name": "stdout",
     "output_type": "stream",
     "text": [
      "Accuracy: 0.5017754621179438\n",
      "Confusion Matrix:\n",
      " [[9002 6026]\n",
      " [8987 6118]]\n",
      "Classification Report:\n",
      "               precision    recall  f1-score   support\n",
      "\n",
      "         0.0       0.50      0.60      0.55     15028\n",
      "         1.0       0.50      0.41      0.45     15105\n",
      "\n",
      "    accuracy                           0.50     30133\n",
      "   macro avg       0.50      0.50      0.50     30133\n",
      "weighted avg       0.50      0.50      0.50     30133\n",
      "\n"
     ]
    }
   ],
   "source": [
    "gnb=GaussianNB()\n",
    "gnb.fit(x_train,y_train)\n",
    "predgnb=gnb.predict(x_test)\n",
    "print(\"Accuracy:\",accuracy_score(y_test,predgnb))\n",
    "print(\"Confusion Matrix:\\n\",confusion_matrix(y_test,predgnb))\n",
    "print(\"Classification Report:\\n\",classification_report(y_test,predgnb))"
   ]
  },
  {
   "cell_type": "markdown",
   "id": "eb437d22",
   "metadata": {},
   "source": [
    "Obs- The GaussianNB has provided the accuracy_score= 0.5017754621179438, precision=0.50, recall=0.60 and f1-score=0.55"
   ]
  },
  {
   "cell_type": "markdown",
   "id": "d91cd733",
   "metadata": {},
   "source": [
    "#### 3.Decision Tree Classifier"
   ]
  },
  {
   "cell_type": "code",
   "execution_count": 43,
   "id": "b88ea473",
   "metadata": {},
   "outputs": [
    {
     "name": "stdout",
     "output_type": "stream",
     "text": [
      "Accuracy: 0.5021073241960641\n",
      "Confusion Matrix:\n",
      " [[7617 7411]\n",
      " [7592 7513]]\n",
      "Classification Report:\n",
      "               precision    recall  f1-score   support\n",
      "\n",
      "         0.0       0.50      0.51      0.50     15028\n",
      "         1.0       0.50      0.50      0.50     15105\n",
      "\n",
      "    accuracy                           0.50     30133\n",
      "   macro avg       0.50      0.50      0.50     30133\n",
      "weighted avg       0.50      0.50      0.50     30133\n",
      "\n"
     ]
    }
   ],
   "source": [
    "dtc=DecisionTreeClassifier()\n",
    "dtc.fit(x_train,y_train)\n",
    "preddtc=dtc.predict(x_test)\n",
    "print(\"Accuracy:\",accuracy_score(y_test,preddtc))\n",
    "print(\"Confusion Matrix:\\n\",confusion_matrix(y_test,preddtc))\n",
    "print(\"Classification Report:\\n\",classification_report(y_test,preddtc))"
   ]
  },
  {
   "cell_type": "markdown",
   "id": "b680c92b",
   "metadata": {},
   "source": [
    "Obs- The Decision Tree Classifier has provided the accuracy_score=0.5021073241960641, precision=0.50, recall=0.51 and f1-score=0.50"
   ]
  },
  {
   "cell_type": "markdown",
   "id": "7bb67add",
   "metadata": {},
   "source": [
    "#### 4.K Nearest Neighbor Classifier"
   ]
  },
  {
   "cell_type": "code",
   "execution_count": 44,
   "id": "3e8fe36a",
   "metadata": {},
   "outputs": [
    {
     "name": "stdout",
     "output_type": "stream",
     "text": [
      "Accuracy: 0.5020741379882521\n",
      "Confusion Matrix:\n",
      " [[7534 7494]\n",
      " [7510 7595]]\n",
      "Classification Report:\n",
      "               precision    recall  f1-score   support\n",
      "\n",
      "         0.0       0.50      0.50      0.50     15028\n",
      "         1.0       0.50      0.50      0.50     15105\n",
      "\n",
      "    accuracy                           0.50     30133\n",
      "   macro avg       0.50      0.50      0.50     30133\n",
      "weighted avg       0.50      0.50      0.50     30133\n",
      "\n"
     ]
    }
   ],
   "source": [
    "knn=KNeighborsClassifier()\n",
    "knn.fit(x_train,y_train)\n",
    "predknn=knn.predict(x_test)\n",
    "print(\"Accuracy:\",accuracy_score(y_test,predknn))\n",
    "print(\"Confusion Matrix:\\n\",confusion_matrix(y_test,predknn))\n",
    "print(\"Classification Report:\\n\",classification_report(y_test,predknn))"
   ]
  },
  {
   "cell_type": "markdown",
   "id": "0bfece74",
   "metadata": {},
   "source": [
    "Obs- The K Nearest Neighbor Classifier has provided the accuracy_score=0.5020741379882521, precision=0.50, recall=0.50 and f1-score=0.50"
   ]
  },
  {
   "cell_type": "markdown",
   "id": "442458a5",
   "metadata": {},
   "source": [
    "#### 5.Support Vector Machine Classifier"
   ]
  },
  {
   "cell_type": "code",
   "execution_count": 45,
   "id": "a4db0807",
   "metadata": {},
   "outputs": [
    {
     "name": "stdout",
     "output_type": "stream",
     "text": [
      "Accuracy: 0.49895463445392096\n",
      "Confusion Matrix:\n",
      " [[8892 6136]\n",
      " [8962 6143]]\n",
      "Classification Report:\n",
      "               precision    recall  f1-score   support\n",
      "\n",
      "         0.0       0.50      0.59      0.54     15028\n",
      "         1.0       0.50      0.41      0.45     15105\n",
      "\n",
      "    accuracy                           0.50     30133\n",
      "   macro avg       0.50      0.50      0.49     30133\n",
      "weighted avg       0.50      0.50      0.49     30133\n",
      "\n"
     ]
    }
   ],
   "source": [
    "svc=SVC()\n",
    "svc.fit(x_train,y_train)\n",
    "predsvc=svc.predict(x_test)\n",
    "print(\"Accuracy:\",accuracy_score(y_test,predsvc))\n",
    "print(\"Confusion Matrix:\\n\",confusion_matrix(y_test,predsvc))\n",
    "print(\"Classification Report:\\n\",classification_report(y_test,predsvc))"
   ]
  },
  {
   "cell_type": "markdown",
   "id": "30ed03f4",
   "metadata": {},
   "source": [
    "Obs- The Support Vector Machine Classifier has provided the accuracy_score=   0.49895463445392096, precision=0.50, recall=0.59 and f1-score=0.54"
   ]
  },
  {
   "cell_type": "markdown",
   "id": "18e69116",
   "metadata": {},
   "source": [
    "#### 6. Ensemble Methods\n",
    "#### 6.1 Random Forest Classifier"
   ]
  },
  {
   "cell_type": "code",
   "execution_count": 46,
   "id": "287675c8",
   "metadata": {},
   "outputs": [
    {
     "name": "stdout",
     "output_type": "stream",
     "text": [
      "Accuracy: 0.5003152689742143\n",
      "Confusion Matrix:\n",
      " [[7771 7257]\n",
      " [7800 7305]]\n",
      "Classification Report:\n",
      "               precision    recall  f1-score   support\n",
      "\n",
      "         0.0       0.50      0.52      0.51     15028\n",
      "         1.0       0.50      0.48      0.49     15105\n",
      "\n",
      "    accuracy                           0.50     30133\n",
      "   macro avg       0.50      0.50      0.50     30133\n",
      "weighted avg       0.50      0.50      0.50     30133\n",
      "\n"
     ]
    }
   ],
   "source": [
    "rf=RandomForestClassifier(n_estimators=100)\n",
    "rf.fit(x_train,y_train)\n",
    "predrf=rf.predict(x_test)\n",
    "print(\"Accuracy:\",accuracy_score(y_test,predrf))\n",
    "print(\"Confusion Matrix:\\n\",confusion_matrix(y_test,predrf))\n",
    "print(\"Classification Report:\\n\",classification_report(y_test,predrf))"
   ]
  },
  {
   "cell_type": "markdown",
   "id": "e7d3066c",
   "metadata": {},
   "source": [
    "Obs- The Random Forest Classifier has provided the accuracy_score=0.49872233099923674, precision=0.50, recall=0.52 and f1-score=0.51"
   ]
  },
  {
   "cell_type": "markdown",
   "id": "dbc129f1",
   "metadata": {},
   "source": [
    "#### 6.2 Ada Boost Classifier"
   ]
  },
  {
   "cell_type": "code",
   "execution_count": 47,
   "id": "8d497e5a",
   "metadata": {},
   "outputs": [
    {
     "name": "stdout",
     "output_type": "stream",
     "text": [
      "Accuracy: 0.5004812000132745\n",
      "Confusion Matrix:\n",
      " [[8367 6661]\n",
      " [8391 6714]]\n",
      "Classification Report:\n",
      "               precision    recall  f1-score   support\n",
      "\n",
      "         0.0       0.50      0.56      0.53     15028\n",
      "         1.0       0.50      0.44      0.47     15105\n",
      "\n",
      "    accuracy                           0.50     30133\n",
      "   macro avg       0.50      0.50      0.50     30133\n",
      "weighted avg       0.50      0.50      0.50     30133\n",
      "\n"
     ]
    }
   ],
   "source": [
    "ad=AdaBoostClassifier(n_estimators=50,learning_rate=1.0)\n",
    "ad.fit(x_train,y_train)\n",
    "predad=ad.predict(x_test)\n",
    "print(\"Accuracy:\",accuracy_score(y_test,predad))\n",
    "print(\"Confusion Matrix:\\n\",confusion_matrix(y_test,predad))\n",
    "print(\"Classification Report:\\n\",classification_report(y_test,predad))"
   ]
  },
  {
   "cell_type": "markdown",
   "id": "724cedc0",
   "metadata": {},
   "source": [
    "Obs- The Ada Boost Classifier has provided the accuracy_score=0.49955198619453756, precision=0.50, recall=0.54 and f1-score=0.52"
   ]
  },
  {
   "cell_type": "markdown",
   "id": "c6015b81",
   "metadata": {},
   "source": [
    "#### 6.3 Gradient Boosting Classifier"
   ]
  },
  {
   "cell_type": "code",
   "execution_count": 48,
   "id": "c30b0551",
   "metadata": {},
   "outputs": [
    {
     "name": "stdout",
     "output_type": "stream",
     "text": [
      "Accuracy: 0.5011449241695152\n",
      "Confusion Matrix:\n",
      " [[8370 6658]\n",
      " [8374 6731]]\n",
      "Classification Report:\n",
      "               precision    recall  f1-score   support\n",
      "\n",
      "         0.0       0.50      0.56      0.53     15028\n",
      "         1.0       0.50      0.45      0.47     15105\n",
      "\n",
      "    accuracy                           0.50     30133\n",
      "   macro avg       0.50      0.50      0.50     30133\n",
      "weighted avg       0.50      0.50      0.50     30133\n",
      "\n"
     ]
    }
   ],
   "source": [
    "gb=GradientBoostingClassifier()\n",
    "gb.fit(x_train,y_train)\n",
    "predgb=gb.predict(x_test)\n",
    "print(\"Accuracy:\",accuracy_score(y_test,predgb))\n",
    "print(\"Confusion Matrix:\\n\",confusion_matrix(y_test,predgb))\n",
    "print(\"Classification Report:\\n\",classification_report(y_test,predgb))"
   ]
  },
  {
   "cell_type": "markdown",
   "id": "f611a501",
   "metadata": {},
   "source": [
    "Obs- The Gradient Boosting Classifier has provided the accuracy_score= 0.5007135034679587, precision=0.50, recall=0.56 and f1-score=0.53"
   ]
  },
  {
   "cell_type": "markdown",
   "id": "40f1dfa5",
   "metadata": {},
   "source": [
    "### 4. Model Optimization"
   ]
  },
  {
   "cell_type": "markdown",
   "id": "ac1c1a91",
   "metadata": {},
   "source": [
    "#### * Cross Validation"
   ]
  },
  {
   "cell_type": "code",
   "execution_count": 49,
   "id": "1ec6a1de",
   "metadata": {},
   "outputs": [],
   "source": [
    "from sklearn.model_selection import cross_val_score"
   ]
  },
  {
   "cell_type": "code",
   "execution_count": 50,
   "id": "1472548c",
   "metadata": {},
   "outputs": [
    {
     "name": "stdout",
     "output_type": "stream",
     "text": [
      "At cv: 5\n",
      "Cross_Validation_score is: 49.939266282565484\n",
      "Accuracy is : 50.58573656788239\n",
      "\n",
      "\n",
      "At cv: 6\n",
      "Cross_Validation_score is: 49.96515017335705\n",
      "Accuracy is : 50.58573656788239\n",
      "\n",
      "\n",
      "At cv: 7\n",
      "Cross_Validation_score is: 50.0099496503975\n",
      "Accuracy is : 50.58573656788239\n",
      "\n",
      "\n",
      "At cv: 8\n",
      "Cross_Validation_score is: 49.864602122118555\n",
      "Accuracy is : 50.58573656788239\n",
      "\n",
      "\n",
      "At cv: 9\n",
      "Cross_Validation_score is: 50.03782987504386\n",
      "Accuracy is : 50.58573656788239\n",
      "\n",
      "\n",
      "At cv: 10\n",
      "Cross_Validation_score is: 50.0239042786156\n",
      "Accuracy is : 50.58573656788239\n",
      "\n",
      "\n"
     ]
    }
   ],
   "source": [
    "# Using of K-Fold cross-validation technique\n",
    "\n",
    "predlg= lg.predict(x_test)\n",
    "\n",
    "from sklearn.model_selection import cross_val_score\n",
    "\n",
    "test_accuracy= accuracy_score(y_test,predlg)\n",
    "\n",
    "for j in range(5,11):\n",
    "    cv_score=cross_val_score(lg,x,y,cv=j)\n",
    "    cv_mean= cv_score.mean()\n",
    "    print('At cv:',j)\n",
    "    print('Cross_Validation_score is:',cv_mean*100)\n",
    "    print('Accuracy is :',test_accuracy*100)\n",
    "    print(\"\\n\")"
   ]
  },
  {
   "cell_type": "markdown",
   "id": "c16e59a3",
   "metadata": {},
   "source": [
    "Obs- Selecting the fold value as 10 as it is providing maximum cross-val-score"
   ]
  },
  {
   "cell_type": "code",
   "execution_count": 59,
   "id": "475117d3",
   "metadata": {},
   "outputs": [
    {
     "name": "stdout",
     "output_type": "stream",
     "text": [
      "CV score  for Logistic Regression: 0.500239042786156\n",
      "And Difference between CV and accuracy_score= 0.0056183228926678375\n"
     ]
    }
   ],
   "source": [
    "# cv score for Logistic Regression \n",
    "cvlg=cross_val_score(lg,x,y,cv=10).mean()\n",
    "print('CV score  for Logistic Regression:',cvlg)\n",
    "print(\"And Difference between CV and accuracy_score=\", accuracy_score(y_test,predlg)-cvlg)"
   ]
  },
  {
   "cell_type": "code",
   "execution_count": 60,
   "id": "9b1db8c0",
   "metadata": {},
   "outputs": [
    {
     "name": "stdout",
     "output_type": "stream",
     "text": [
      "CV score  for Gaussian NB: 0.5001095458727245\n",
      "And Difference between CV and accuracy_score= 0.0016659162452192788\n"
     ]
    }
   ],
   "source": [
    "# cv score for GaussianNB \n",
    "cvgnb=cross_val_score(gnb,x,y,cv=10).mean()\n",
    "print('CV score  for Gaussian NB:',cvgnb)\n",
    "print(\"And Difference between CV and accuracy_score=\", accuracy_score(y_test,predgnb)-cvgnb)"
   ]
  },
  {
   "cell_type": "code",
   "execution_count": 61,
   "id": "4004d186",
   "metadata": {},
   "outputs": [
    {
     "name": "stdout",
     "output_type": "stream",
     "text": [
      "CV score  for Decision Tree Classifier: 0.4991338835851968\n",
      "And Difference between CV and accuracy_score= 0.002973440610867295\n"
     ]
    }
   ],
   "source": [
    "# cv score for Decision Tree Classifier \n",
    "cvdtc=cross_val_score(dtc,x,y,cv=10).mean()\n",
    "print('CV score  for Decision Tree Classifier:',cvdtc)\n",
    "print(\"And Difference between CV and accuracy_score=\", accuracy_score(y_test,preddtc)-cvdtc)"
   ]
  },
  {
   "cell_type": "code",
   "execution_count": 62,
   "id": "2e335434",
   "metadata": {},
   "outputs": [
    {
     "name": "stdout",
     "output_type": "stream",
     "text": [
      "CV score  for K Neighbors Clssifier: 0.5040720808532055\n",
      "And Difference between CV and accuracy_score= -0.0019979428649534725\n"
     ]
    }
   ],
   "source": [
    "# cv score for K Neighbors Classifier \n",
    "cvknn=cross_val_score(knn,x,y,cv=10).mean()\n",
    "print('CV score  for K Neighbors Clssifier:',cvknn)\n",
    "print(\"And Difference between CV and accuracy_score=\", accuracy_score(y_test,predknn)-cvknn)"
   ]
  },
  {
   "cell_type": "code",
   "execution_count": 63,
   "id": "377f4bf2",
   "metadata": {},
   "outputs": [
    {
     "name": "stdout",
     "output_type": "stream",
     "text": [
      "CV score  for RandomForestClassifier: 0.5008760765721914\n",
      "And Difference between CV and accuracy_score= -0.0005608075979770533\n"
     ]
    }
   ],
   "source": [
    "# cv score for Random Forest Classifier\n",
    "cvrf=cross_val_score(rf,x,y,cv=10).mean()\n",
    "print('CV score  for RandomForestClassifier:',cvrf)\n",
    "print(\"And Difference between CV and accuracy_score=\", accuracy_score(y_test,predrf)-cvrf)"
   ]
  },
  {
   "cell_type": "code",
   "execution_count": 64,
   "id": "075390c7",
   "metadata": {},
   "outputs": [
    {
     "name": "stdout",
     "output_type": "stream",
     "text": [
      "CV score  for Ada Boost Classifier: 0.5019413554972357\n",
      "And Difference between CV and accuracy_score= -0.0014601554839612785\n"
     ]
    }
   ],
   "source": [
    "# cv score for Ada Boost Classifier\n",
    "cvad=cross_val_score(ad,x,y,cv=10).mean()\n",
    "print('CV score  for Ada Boost Classifier:',cvad)\n",
    "print(\"And Difference between CV and accuracy_score=\", accuracy_score(y_test,predad)-cvad)"
   ]
  },
  {
   "cell_type": "code",
   "execution_count": 65,
   "id": "f1bc7139",
   "metadata": {},
   "outputs": [
    {
     "name": "stdout",
     "output_type": "stream",
     "text": [
      "CV score  for Gradienty Boosting Classifier: 0.5014336194016611\n",
      "And Difference between CV and accuracy_score= -0.0002886952321459191\n"
     ]
    }
   ],
   "source": [
    "# cv score for GradientBoostingClassifier\n",
    "cvgb=cross_val_score(gb,x,y,cv=10).mean()\n",
    "print('CV score  for Gradienty Boosting Classifier:',cvgb)\n",
    "print(\"And Difference between CV and accuracy_score=\", accuracy_score(y_test,predgb)-cvgb)"
   ]
  },
  {
   "cell_type": "markdown",
   "id": "d2b98aaf",
   "metadata": {},
   "source": [
    "Obs- \n",
    "* We can observe the difference between CV score and r2_score is least in the model 'Gradient Boosting Classifier'\n",
    "* Finding best parameters to pass in GB below using hyper parameter tuning"
   ]
  },
  {
   "cell_type": "markdown",
   "id": "4877ebae",
   "metadata": {},
   "source": [
    "#### * Hyper Parameter Tuning"
   ]
  },
  {
   "cell_type": "code",
   "execution_count": 66,
   "id": "d46ba719",
   "metadata": {},
   "outputs": [
    {
     "data": {
      "text/plain": [
       "{'ccp_alpha': 0.0,\n",
       " 'criterion': 'friedman_mse',\n",
       " 'init': None,\n",
       " 'learning_rate': 0.1,\n",
       " 'loss': 'deviance',\n",
       " 'max_depth': 3,\n",
       " 'max_features': None,\n",
       " 'max_leaf_nodes': None,\n",
       " 'min_impurity_decrease': 0.0,\n",
       " 'min_samples_leaf': 1,\n",
       " 'min_samples_split': 2,\n",
       " 'min_weight_fraction_leaf': 0.0,\n",
       " 'n_estimators': 100,\n",
       " 'n_iter_no_change': None,\n",
       " 'random_state': None,\n",
       " 'subsample': 1.0,\n",
       " 'tol': 0.0001,\n",
       " 'validation_fraction': 0.1,\n",
       " 'verbose': 0,\n",
       " 'warm_start': False}"
      ]
     },
     "execution_count": 66,
     "metadata": {},
     "output_type": "execute_result"
    }
   ],
   "source": [
    "gb.get_params()"
   ]
  },
  {
   "cell_type": "code",
   "execution_count": 67,
   "id": "83ae1dfd",
   "metadata": {},
   "outputs": [],
   "source": [
    "#Selecting few parameter list to pass in Decision Tree Classifier\n",
    "from sklearn.model_selection import GridSearchCV\n",
    "# defining parameter range:\n",
    "\n",
    "parameter = {'loss':['log_loss', 'exponential'],\n",
    "             'learning_rate':[0.0,0.1,1.0],\n",
    "             'criterion':['friedman_mse', 'squared_error'],\n",
    "             'n_estimators':[1,10,100]}"
   ]
  },
  {
   "cell_type": "code",
   "execution_count": 68,
   "id": "df7ef7ee",
   "metadata": {},
   "outputs": [
    {
     "name": "stdout",
     "output_type": "stream",
     "text": [
      "{'criterion': 'friedman_mse', 'learning_rate': 0.1, 'loss': 'exponential', 'n_estimators': 100}\n"
     ]
    },
    {
     "data": {
      "text/plain": [
       "0.5003816413898384"
      ]
     },
     "execution_count": 68,
     "metadata": {},
     "output_type": "execute_result"
    }
   ],
   "source": [
    "# Passing this parameters to GridSearchCV\n",
    "GCV = GridSearchCV(gb,parameter,cv=10,scoring='accuracy')\n",
    "\n",
    "GCV.fit(x_train,y_train)  \n",
    "print(GCV.best_params_)         #printing the best parameter found by Gridsearchcv\n",
    "GCV_pred = GCV.best_estimator_.predict(x_test)    #predicting accuracy with obtained best parameter \n",
    "accuracy_score(y_test, GCV_pred)                  #Printing accuracy"
   ]
  },
  {
   "cell_type": "code",
   "execution_count": 69,
   "id": "c32f526f",
   "metadata": {},
   "outputs": [
    {
     "name": "stdout",
     "output_type": "stream",
     "text": [
      "Accuracy: 0.5003816413898384\n",
      "Confusion Matrix:\n",
      " [[8349 6679]\n",
      " [8376 6729]]\n",
      "Classification Report:\n",
      "               precision    recall  f1-score   support\n",
      "\n",
      "         0.0       0.50      0.56      0.53     15028\n",
      "         1.0       0.50      0.45      0.47     15105\n",
      "\n",
      "    accuracy                           0.50     30133\n",
      "   macro avg       0.50      0.50      0.50     30133\n",
      "weighted avg       0.50      0.50      0.50     30133\n",
      "\n"
     ]
    }
   ],
   "source": [
    "#Applying best parameter values on Gradient Boosting Classifier\n",
    "churn_best1=GradientBoostingClassifier(loss='exponential', learning_rate=0.1, criterion='friedman_mse', n_estimators=100)\n",
    "churn_best1.fit(x_train,y_train)\n",
    "preddtc1=churn_best1.predict(x_test)\n",
    "print(\"Accuracy:\",accuracy_score(y_test,preddtc1))\n",
    "print(\"Confusion Matrix:\\n\",confusion_matrix(y_test,preddtc1))\n",
    "print(\"Classification Report:\\n\",classification_report(y_test,preddtc1))"
   ]
  },
  {
   "cell_type": "markdown",
   "id": "3cd9dc45",
   "metadata": {},
   "source": [
    "Our best model with best parameters has given accuracy of  0.5003816413898384, precision of 0.50, recall of 0.56 and f1_score of 0.53"
   ]
  },
  {
   "cell_type": "markdown",
   "id": "4558d65f",
   "metadata": {},
   "source": [
    "#### * Plotting ROC-AUC curve for best model"
   ]
  },
  {
   "cell_type": "code",
   "execution_count": 70,
   "id": "44cae97c",
   "metadata": {},
   "outputs": [],
   "source": [
    "from sklearn.metrics import roc_curve\n",
    "from sklearn.metrics import roc_auc_score"
   ]
  },
  {
   "cell_type": "code",
   "execution_count": 71,
   "id": "35a4fe6a",
   "metadata": {},
   "outputs": [
    {
     "data": {
      "image/png": "[encoded data removed]",
      "text/plain": [
       "<Figure size 432x288 with 1 Axes>"
      ]
     },
     "metadata": {
      "needs_background": "light"
     },
     "output_type": "display_data"
    }
   ],
   "source": [
    "fpr,tpr,threshholds=roc_curve(y_test,preddtc1)\n",
    "auc = roc_auc_score(y_test,preddtc1)\n",
    "plt.plot([0,1],[0,1],'k--')\n",
    "plt.plot(fpr,tpr,label='Customer Churn_best')\n",
    "plt.xlabel('False Positive Rate')\n",
    "plt.ylabel('True Positive Rate')\n",
    "plt.legend()\n",
    "plt.show()"
   ]
  },
  {
   "cell_type": "markdown",
   "id": "0de91358",
   "metadata": {},
   "source": [
    "Obs- The best model ie. Decision Tree Classifier has AUC(area under curve)=  0.50%"
   ]
  },
  {
   "cell_type": "markdown",
   "id": "46be45ad",
   "metadata": {},
   "source": [
    "### 5. Model Deployment:"
   ]
  },
  {
   "cell_type": "markdown",
   "id": "2921a9ba",
   "metadata": {},
   "source": [
    "#### * Saving/Deploying the best model"
   ]
  },
  {
   "cell_type": "code",
   "execution_count": 72,
   "id": "868dea4d",
   "metadata": {},
   "outputs": [
    {
     "data": {
      "text/plain": [
       "['Churn.obj']"
      ]
     },
     "execution_count": 72,
     "metadata": {},
     "output_type": "execute_result"
    }
   ],
   "source": [
    "import joblib\n",
    "\n",
    "joblib.dump(churn_best1,'Churn.obj')"
   ]
  },
  {
   "cell_type": "code",
   "execution_count": 73,
   "id": "9d49b6f1",
   "metadata": {},
   "outputs": [],
   "source": [
    "churn_models=joblib.load('Churn.obj')"
   ]
  },
  {
   "cell_type": "code",
   "execution_count": 74,
   "id": "6970dd94",
   "metadata": {},
   "outputs": [
    {
     "data": {
      "text/plain": [
       "GradientBoostingClassifier(loss='exponential')"
      ]
     },
     "execution_count": 74,
     "metadata": {},
     "output_type": "execute_result"
    }
   ],
   "source": [
    "churn_models"
   ]
  },
  {
   "cell_type": "markdown",
   "id": "dc31bd7d",
   "metadata": {},
   "source": [
    "#### * Predicting the Output i.e.churn predictions."
   ]
  },
  {
   "cell_type": "code",
   "execution_count": 75,
   "id": "b324f830",
   "metadata": {},
   "outputs": [
    {
     "data": {
      "text/html": [
       "<div>\n",
       "<style scoped>\n",
       "    .dataframe tbody tr th:only-of-type {\n",
       "        vertical-align: middle;\n",
       "    }\n",
       "\n",
       "    .dataframe tbody tr th {\n",
       "        vertical-align: top;\n",
       "    }\n",
       "\n",
       "    .dataframe thead th {\n",
       "        text-align: right;\n",
       "    }\n",
       "</style>\n",
       "<table border=\"1\" class=\"dataframe\">\n",
       "  <thead>\n",
       "    <tr style=\"text-align: right;\">\n",
       "      <th></th>\n",
       "      <th>Original</th>\n",
       "      <th>Predicted</th>\n",
       "    </tr>\n",
       "  </thead>\n",
       "  <tbody>\n",
       "    <tr>\n",
       "      <th>0</th>\n",
       "      <td>0.0</td>\n",
       "      <td>0.0</td>\n",
       "    </tr>\n",
       "    <tr>\n",
       "      <th>1</th>\n",
       "      <td>0.0</td>\n",
       "      <td>0.0</td>\n",
       "    </tr>\n",
       "    <tr>\n",
       "      <th>2</th>\n",
       "      <td>1.0</td>\n",
       "      <td>1.0</td>\n",
       "    </tr>\n",
       "    <tr>\n",
       "      <th>3</th>\n",
       "      <td>0.0</td>\n",
       "      <td>0.0</td>\n",
       "    </tr>\n",
       "    <tr>\n",
       "      <th>4</th>\n",
       "      <td>0.0</td>\n",
       "      <td>0.0</td>\n",
       "    </tr>\n",
       "    <tr>\n",
       "      <th>...</th>\n",
       "      <td>...</td>\n",
       "      <td>...</td>\n",
       "    </tr>\n",
       "    <tr>\n",
       "      <th>30128</th>\n",
       "      <td>1.0</td>\n",
       "      <td>0.0</td>\n",
       "    </tr>\n",
       "    <tr>\n",
       "      <th>30129</th>\n",
       "      <td>1.0</td>\n",
       "      <td>0.0</td>\n",
       "    </tr>\n",
       "    <tr>\n",
       "      <th>30130</th>\n",
       "      <td>1.0</td>\n",
       "      <td>1.0</td>\n",
       "    </tr>\n",
       "    <tr>\n",
       "      <th>30131</th>\n",
       "      <td>0.0</td>\n",
       "      <td>0.0</td>\n",
       "    </tr>\n",
       "    <tr>\n",
       "      <th>30132</th>\n",
       "      <td>0.0</td>\n",
       "      <td>0.0</td>\n",
       "    </tr>\n",
       "  </tbody>\n",
       "</table>\n",
       "<p>30133 rows × 2 columns</p>\n",
       "</div>"
      ],
      "text/plain": [
       "       Original  Predicted\n",
       "0           0.0        0.0\n",
       "1           0.0        0.0\n",
       "2           1.0        1.0\n",
       "3           0.0        0.0\n",
       "4           0.0        0.0\n",
       "...         ...        ...\n",
       "30128       1.0        0.0\n",
       "30129       1.0        0.0\n",
       "30130       1.0        1.0\n",
       "30131       0.0        0.0\n",
       "30132       0.0        0.0\n",
       "\n",
       "[30133 rows x 2 columns]"
      ]
     },
     "execution_count": 75,
     "metadata": {},
     "output_type": "execute_result"
    }
   ],
   "source": [
    "ori = np.array(y_test)\n",
    "predicted = np.array(churn_models.predict(x_test))\n",
    "df_new = pd.DataFrame({\"Original\":ori,\"Predicted\":predicted},index= range(len(ori)))\n",
    "df_new"
   ]
  },
  {
   "cell_type": "markdown",
   "id": "856b8ece",
   "metadata": {},
   "source": [
    "Obs- We can see our best model has given not very accurate but fair results"
   ]
  },
  {
   "cell_type": "markdown",
   "id": "928304ce",
   "metadata": {},
   "source": [
    "## Concluding Remarks"
   ]
  },
  {
   "cell_type": "markdown",
   "id": "4e9d0ec5",
   "metadata": {},
   "source": [
    "* We have predicted the Churn of a Telecom Industry by collecting the dataset of numerous customers who have different subscription lengths and different data consumption capacity from different regions. \n",
    "* We classified the output using classification model. The prediction accuracies of these models were then checked.\n",
    "* Also cross-validation was performed to avoid overfitting of models.\n",
    "* The prediction results indicated that Gradient Boosting Classifier model achieved higher prediction accuracy."
   ]
  },
  {
   "cell_type": "code",
   "execution_count": null,
   "id": "cfc78d3e",
   "metadata": {},
   "outputs": [],
   "source": []
  }
 ],
 "metadata": {
  "kernelspec": {
   "display_name": "Python 3 (ipykernel)",
   "language": "python",
   "name": "python3"
  },
  "language_info": {
   "codemirror_mode": {
    "name": "ipython",
    "version": 3
   },
   "file_extension": ".py",
   "mimetype": "text/x-python",
   "name": "python",
   "nbconvert_exporter": "python",
   "pygments_lexer": "ipython3",
   "version": "3.9.12"
  }
 },
 "nbformat": 4,
 "nbformat_minor": 5
}
